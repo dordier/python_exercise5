{
 "cells": [
  {
   "cell_type": "markdown",
   "metadata": {},
   "source": [
    "![Training Scientists](https://www.training-scientists.de/wp-content/uploads/2021/07/training_scientists.webp)"
   ]
  },
  {
   "cell_type": "markdown",
   "metadata": {},
   "source": [
    "# Python for scientists - lecture 5: Git, strings, video creation, Notebook structure"
   ]
  },
  {
   "cell_type": "markdown",
   "metadata": {},
   "source": [
    "## Git & Github\n",
    "\n",
    "Git: Version control software\n",
    "\n",
    "GitHub: Provider of and server for Git-based version control\n",
    "\n",
    "You need to install git locally to synchronize your local code with the one on Github.\n",
    "\n",
    "A good tutorial on how to install git can be found at https://www.atlassian.com/git/tutorials/install-git\n",
    "\n",
    "Git installer for windows https://gitforwindows.org/"
   ]
  },
  {
   "cell_type": "markdown",
   "metadata": {},
   "source": [
    "### Clone repository\n",
    "\n",
    "Change to the directory you want to clone your project into and then enter in command line (this link can be copy/pasted from GitHub)\n",
    "\n",
    "> git clone ...\n",
    "\n",
    "There will be a hidden .git file indicating that this is a git repository"
   ]
  },
  {
   "cell_type": "markdown",
   "metadata": {},
   "source": [
    "### Security:\n",
    "\n",
    "There are two ways of authentication: \n",
    "\n",
    "1) https + personal access token (PAT) (preferred in Windows)\n",
    "\n",
    "2) SSH (my preferred way in Linux / MacOS)\n",
    "\n",
    "###### https + PAT\n",
    "\n",
    "Classic passwords are no longer supported on Github, here is why:\n",
    "\n",
    "https://github.blog/2020-12-15-token-authentication-requirements-for-git-operations/\n",
    "\n",
    "Here is how you create a personal access token (PAT) which has the advantage of the permissions being adjustable:\n",
    "\n",
    "https://docs.github.com/en/github/authenticating-to-github/keeping-your-account-and-data-secure/creating-a-personal-access-token\n",
    "\n",
    "And this is how you cache your credentials (for Windows, MacOS and Linux) so you do not have to type them in every time:\n",
    "https://docs.github.com/en/get-started/getting-started-with-git/caching-your-github-credentials-in-git\n",
    "\n",
    "###### SSH\n",
    "\n",
    "To use SSH keys make sure you clone the repository using the SSH link (something like git@github.com:USERNAME/REPOSITORY.git) and not the https link.\n",
    "\n",
    "Everything else is described here:\n",
    "https://docs.github.com/en/github/authenticating-to-github/connecting-to-github-with-ssh\n",
    "\n",
    "How to create an SSH Keypair under Windows using git-bash:\n",
    "\n",
    "https://docs.github.com/en/authentication/connecting-to-github-with-ssh/generating-a-new-ssh-key-and-adding-it-to-the-ssh-agent\n"
   ]
  },
  {
   "cell_type": "markdown",
   "metadata": {},
   "source": [
    "### Adding new files\n",
    "\n",
    "To synchronize a new or changed file in the repository, we need to add it \n",
    ">git add FILENAME\n",
    "\n",
    "or \n",
    "> git add . \n",
    "\n",
    "to add everything or\n",
    ">git add -u \n",
    "\n",
    "to only update files that are already part of the repository."
   ]
  },
  {
   "cell_type": "markdown",
   "metadata": {},
   "source": [
    "### Synchronize with Github Commit, Push\n",
    "\n",
    "If you added the files you can check the status of the repository with\n",
    ">git status\n",
    "\n",
    "To actually synchronize your changes with Github, run:\n",
    "\n",
    ">git commit -m \"Comment describing the changes since the last commit\"\n",
    "\n",
    ">git push\n",
    "\n",
    "To see the latest commits:\n",
    ">git log\n",
    "\n",
    "If there are changes on Github that you do not have locally yet:\n",
    ">git pull"
   ]
  },
  {
   "cell_type": "markdown",
   "metadata": {},
   "source": [
    "### Ignore files\n",
    "\n",
    "If we don't want to sync certain files, we can create a .gitignore file -> textfile which contains a list of files which are not synchronized."
   ]
  },
  {
   "cell_type": "markdown",
   "metadata": {},
   "source": [
    "### Example: Going back in history\n",
    "\n",
    "Often it will happen that you delete things that you might need later. Here there is a nice overview of your options at that point:\n",
    "\n",
    "https://stackoverflow.com/questions/4114095/how-do-i-revert-a-git-repository-to-a-previous-commit"
   ]
  },
  {
   "cell_type": "markdown",
   "metadata": {},
   "source": [
    "## String formatting"
   ]
  },
  {
   "cell_type": "code",
   "execution_count": null,
   "metadata": {
    "ExecuteTime": {
     "end_time": "2021-12-20T14:49:12.647454Z",
     "start_time": "2021-12-20T14:49:12.634454Z"
    }
   },
   "outputs": [],
   "source": [
    "import matplotlib.pyplot as plt\n",
    "import numpy as np\n",
    "\n",
    "import scipy.misc\n",
    "import scipy as sp\n",
    "import math\n",
    "import matplotlib\n",
    "from matplotlib import cm\n",
    "from pylab import meshgrid,cm,imshow,contour,clabel,colorbar,axis,title,show"
   ]
  },
  {
   "cell_type": "code",
   "execution_count": null,
   "metadata": {
    "ExecuteTime": {
     "end_time": "2021-12-20T14:49:12.663454Z",
     "start_time": "2021-12-20T14:49:12.651802Z"
    }
   },
   "outputs": [],
   "source": [
    "figsizesmall = (8,6)\n",
    "figuresize = (10,6)\n",
    "figsizelarge = (15,10)\n",
    "figsize_4c = (15,6)"
   ]
  },
  {
   "cell_type": "code",
   "execution_count": null,
   "metadata": {},
   "outputs": [],
   "source": [
    "import os\n",
    "\n",
    "def safe_mkdir(directory):\n",
    "    if not os.path.exists(directory):\n",
    "        os.makedirs(directory)"
   ]
  },
  {
   "cell_type": "code",
   "execution_count": null,
   "metadata": {},
   "outputs": [],
   "source": [
    "# Create folders for output\n",
    "safe_mkdir('./output')"
   ]
  },
  {
   "cell_type": "markdown",
   "metadata": {},
   "source": [
    "### String formatting: the classic way\n",
    "\n",
    "The % operator might look familiar from the C language and has been part of the Python standard from the very beginning:"
   ]
  },
  {
   "cell_type": "code",
   "execution_count": null,
   "metadata": {
    "ExecuteTime": {
     "end_time": "2021-12-20T14:49:12.679488Z",
     "start_time": "2021-12-20T14:49:12.665455Z"
    }
   },
   "outputs": [],
   "source": [
    "# With one variable it is simple enough:\n",
    "name = \"Homer\"\n",
    "print(\"Hello, %s.\" % name)"
   ]
  },
  {
   "cell_type": "code",
   "execution_count": null,
   "metadata": {
    "ExecuteTime": {
     "end_time": "2021-12-20T14:49:12.695169Z",
     "start_time": "2021-12-20T14:49:12.682456Z"
    }
   },
   "outputs": [],
   "source": [
    "# However, with more variables it becomes less obvious and more error prone:\n",
    "first_name = \"Homer\"\n",
    "last_name = \"Simpson\"\n",
    "age = 37\n",
    "profession = \"Engineer\"\n",
    "affiliation = \"Nuclear power plant\"\n",
    "\n",
    "\"Hello, %s %s. You are %s. You are a %s. You work at the %s.\" % (first_name,\n",
    "                                                                      last_name, \n",
    "                                                                      age, \n",
    "                                                                      profession, \n",
    "                                                                      affiliation)"
   ]
  },
  {
   "cell_type": "markdown",
   "metadata": {},
   "source": [
    "The string.format() function (not demonstrated here) was a slight improvement but with Python 3.6 (2015) there are better ways of doing it."
   ]
  },
  {
   "cell_type": "markdown",
   "metadata": {},
   "source": [
    "### String formatting: using f strings\n",
    "\n",
    "If you want to know more, check out:\n",
    "https://www.python.org/dev/peps/pep-0498/"
   ]
  },
  {
   "cell_type": "code",
   "execution_count": null,
   "metadata": {
    "ExecuteTime": {
     "end_time": "2021-12-20T14:49:12.710136Z",
     "start_time": "2021-12-20T14:49:12.697134Z"
    }
   },
   "outputs": [],
   "source": [
    "print(f\"Hello, {first_name} {last_name}. You are {age}. \\\n",
    "You are a {profession}. You work at the {affiliation}.\")"
   ]
  },
  {
   "cell_type": "code",
   "execution_count": null,
   "metadata": {
    "ExecuteTime": {
     "end_time": "2021-12-20T14:49:12.726132Z",
     "start_time": "2021-12-20T14:49:12.714136Z"
    }
   },
   "outputs": [],
   "source": [
    "def to_lowercase(input):\n",
    "    return input.lower()"
   ]
  },
  {
   "cell_type": "code",
   "execution_count": null,
   "metadata": {
    "ExecuteTime": {
     "end_time": "2021-12-20T14:49:12.742137Z",
     "start_time": "2021-12-20T14:49:12.728136Z"
    }
   },
   "outputs": [],
   "source": [
    "# Even functions can be called inside the f string as it is evaluated at runtime\n",
    "name = \"Homer Simpson\"\n",
    "f\"{to_lowercase(name)} is funny.\""
   ]
  },
  {
   "cell_type": "code",
   "execution_count": null,
   "metadata": {
    "ExecuteTime": {
     "end_time": "2021-12-20T14:49:12.758166Z",
     "start_time": "2021-12-20T14:49:12.745135Z"
    }
   },
   "outputs": [],
   "source": [
    "# If you use quotation marks inside a string, make sure to use a different type\n",
    "f\"{'Homer Simpson'}\""
   ]
  },
  {
   "cell_type": "code",
   "execution_count": null,
   "metadata": {
    "ExecuteTime": {
     "end_time": "2021-12-20T14:49:12.774133Z",
     "start_time": "2021-12-20T14:49:12.760133Z"
    }
   },
   "outputs": [],
   "source": [
    "# The true power however lies in float formatting:\n",
    "# It will either add zeros or round\n",
    "\n",
    "val = 5.4\n",
    "\n",
    "print(f'The value is equal to {val:.2f}')\n",
    "print(f'{val:.5f}')"
   ]
  },
  {
   "cell_type": "code",
   "execution_count": null,
   "metadata": {
    "ExecuteTime": {
     "end_time": "2021-12-20T14:49:12.789131Z",
     "start_time": "2021-12-20T14:49:12.776133Z"
    }
   },
   "outputs": [],
   "source": [
    "# Leading zeros for floats\n",
    "a=9.8\n",
    "b=10.1\n",
    "\n",
    "# With f strings you can determine the total width of the number by specifying \n",
    "# the number before the dot by stating 04 instead of 4 you get leading zeros \n",
    "# instead of white spaces\n",
    "\n",
    "print(f'{a:04.1f}')\n",
    "print(f'{b:04.1f}')"
   ]
  },
  {
   "cell_type": "code",
   "execution_count": null,
   "metadata": {
    "ExecuteTime": {
     "end_time": "2021-12-20T14:49:12.805131Z",
     "start_time": "2021-12-20T14:49:12.791137Z"
    }
   },
   "outputs": [],
   "source": [
    "# Another nice example is integer fotmatting\n",
    "number = 10_000_000_000\n",
    "numbe2 = 100_000_000\n",
    "\n",
    "result = number + numbe2\n",
    "print(result)"
   ]
  },
  {
   "cell_type": "code",
   "execution_count": null,
   "metadata": {
    "ExecuteTime": {
     "end_time": "2021-12-20T14:49:12.820132Z",
     "start_time": "2021-12-20T14:49:12.807132Z"
    }
   },
   "outputs": [],
   "source": [
    "print(f'{result:,}')"
   ]
  },
  {
   "cell_type": "code",
   "execution_count": null,
   "metadata": {
    "ExecuteTime": {
     "end_time": "2021-12-20T14:49:12.835132Z",
     "start_time": "2021-12-20T14:49:12.822132Z"
    }
   },
   "outputs": [],
   "source": [
    "# Or leading zeros for integers:\n",
    "\n",
    "i = 5\n",
    "print(f'{i:04d}')"
   ]
  },
  {
   "cell_type": "markdown",
   "metadata": {},
   "source": [
    "## Video creation\n",
    "When you have a series of images you can number them continuously (0000 0001 0002 etc) in order to then create a movie out of them"
   ]
  },
  {
   "cell_type": "markdown",
   "metadata": {},
   "source": [
    "### Data creation"
   ]
  },
  {
   "cell_type": "code",
   "execution_count": null,
   "metadata": {},
   "outputs": [],
   "source": [
    "# Meshes:\n",
    "accuracy = 0.04\n",
    "x = np.arange(-5, 5, accuracy)\n",
    "y = np.arange(-5, 5, accuracy)\n",
    "\n",
    "X,Y = np.meshgrid(x,y)"
   ]
  },
  {
   "cell_type": "code",
   "execution_count": null,
   "metadata": {},
   "outputs": [],
   "source": [
    "# 2D Gauss function:\n",
    "def gauss_2d(x, y, I, width):\n",
    "    return I*np.exp(-x**2/width**2 + -y**2/width**2)"
   ]
  },
  {
   "cell_type": "code",
   "execution_count": null,
   "metadata": {},
   "outputs": [],
   "source": [
    "# Gauss parameters\n",
    "nplots = 300\n",
    "intensity = 1.0\n",
    "widths = np.linspace(1.0, 10.0, nplots)"
   ]
  },
  {
   "cell_type": "code",
   "execution_count": null,
   "metadata": {},
   "outputs": [],
   "source": [
    "# Plot parameters\n",
    "position = 1.07\n",
    "lwidth = 1.5\n",
    "lpad = -10"
   ]
  },
  {
   "cell_type": "markdown",
   "metadata": {},
   "source": [
    "### Image creation"
   ]
  },
  {
   "cell_type": "code",
   "execution_count": null,
   "metadata": {},
   "outputs": [],
   "source": [
    "folder = './video/'\n",
    "# safe_mkdir(folder)\n",
    "# for i, width in enumerate(widths):\n",
    "#     fname = f\"{i:04d}\"\n",
    "#     data = gauss_2d(X,Y, intensity, width)\n",
    "    \n",
    "#     plt.figure(figsize=figuresize)\n",
    "        \n",
    "#     im = plt.pcolor(X,Y,data, cmap=cm.inferno, vmin=0, vmax=1, shading='auto')\n",
    "#     cbar = colorbar(im)\n",
    "#     cbar.set_label(r'$gauss\\_2d$', rotation=0, labelpad=lpad, y=position)\n",
    "    \n",
    "#     plt.xlabel(r\"$x$\")\n",
    "#     plt.ylabel(r\"$y$\")\n",
    "#     plt.text(-4.7, 4.0, f'width = {widths[i]:.2f}', fontsize=16, color='white')\n",
    "    \n",
    "#     plt.savefig(folder + fname + '.png', bbox_inches='tight', dpi=300)\n",
    "#     plt.close()"
   ]
  },
  {
   "cell_type": "markdown",
   "metadata": {},
   "source": [
    "### FFmpeg"
   ]
  },
  {
   "cell_type": "markdown",
   "metadata": {},
   "source": [
    "Once you have the images numbered consecutively you can use ffmpeg to create the video:\n",
    "\n",
    "Further reading:\n",
    "https://trac.ffmpeg.org/wiki/Encode/H.264\n",
    "https://ffmpeg.org/ffmpeg.html\n",
    "\n",
    "Call ffmpeg\n",
    "\n",
    "    -i specifies the input files, %04d means integer with 4 digits\n",
    "\n",
    "    -vcodec defines the Codec\n",
    "\n",
    "    -r defines the frame rate in frames per second\n",
    "\n",
    "    -preset defines how fast the video is being processed, the slower the smaller the video size in the end\n",
    "\n",
    "    -crf defines the constant rate factor. The lower the better quality and larger video size. Reasonable values are between 17 and 28. The default is 23\n",
    "\n",
    "    -y overwrites output files without asking\n",
    "\n",
    "    -s defines the resolution"
   ]
  },
  {
   "cell_type": "code",
   "execution_count": null,
   "metadata": {},
   "outputs": [],
   "source": [
    "# ffmpeg  -i %04d.png  -vcodec libx264 -r 30 -preset fast -crf 18 -y -s 1920x1080 gaussians.mp4"
   ]
  },
  {
   "cell_type": "code",
   "execution_count": null,
   "metadata": {},
   "outputs": [],
   "source": [
    "import subprocess\n",
    "# conda install -c conda-forge ffmpeg"
   ]
  },
  {
   "cell_type": "code",
   "execution_count": null,
   "metadata": {},
   "outputs": [],
   "source": [
    "os.chdir(folder)\n",
    "subprocess.call('ffmpeg  -i %04d.png  -vcodec libx264 -r 30 -preset fast -crf 18 -y -s 1920x1080 gaussians.mp4', shell=True)\n",
    "os.chdir('..')\n",
    "# You can open the video with VLC player, for Windows media player you need a different codec, e.g.:\n",
    "# mpeg4 libxvid h264_qsv \n",
    "# https://www.ffmpeg.org/ffmpeg-codecs.html \n",
    "# https://trac.ffmpeg.org/wiki/Encode/MPEG-4 \n",
    "# https://trac.ffmpeg.org/wiki/Hardware/QuickSync"
   ]
  },
  {
   "cell_type": "markdown",
   "metadata": {},
   "source": [
    "## Notebook structure"
   ]
  },
  {
   "cell_type": "code",
   "execution_count": null,
   "metadata": {},
   "outputs": [],
   "source": [
    "import numpy as np\n",
    "import matplotlib.pyplot as plt"
   ]
  },
  {
   "cell_type": "code",
   "execution_count": null,
   "metadata": {},
   "outputs": [],
   "source": [
    "from useful_functions import *"
   ]
  },
  {
   "cell_type": "code",
   "execution_count": null,
   "metadata": {},
   "outputs": [],
   "source": [
    "plt.rcParams.update({'font.size': 14})"
   ]
  },
  {
   "cell_type": "code",
   "execution_count": null,
   "metadata": {},
   "outputs": [],
   "source": [
    "distance = np.arange(0,10)\n",
    "x2 = np.arange(0,10,0.01)\n",
    "\n",
    "temperature = square(distance)\n",
    "y2 = square(x2)"
   ]
  },
  {
   "cell_type": "code",
   "execution_count": null,
   "metadata": {},
   "outputs": [],
   "source": [
    "plt.figure(figsize = (6,6))\n",
    "\n",
    "plt.plot(distance, temperature, **temperature_dict)\n",
    "plt.plot(x2,y2,'--', label='Quasi-continuous')\n",
    "\n",
    "plt.xlabel('distance')\n",
    "plt.ylabel('temperature')\n",
    "\n",
    "plt.legend(loc='lower right')\n",
    "plt.xlim([-.5 , 10.5])\n",
    "plt.ylim([-10 , 110])"
   ]
  }
 ],
 "metadata": {
  "kernelspec": {
   "display_name": "Python 3 (ipykernel)",
   "language": "python",
   "name": "python3"
  },
  "language_info": {
   "codemirror_mode": {
    "name": "ipython",
    "version": 3
   },
   "file_extension": ".py",
   "mimetype": "text/x-python",
   "name": "python",
   "nbconvert_exporter": "python",
   "pygments_lexer": "ipython3",
   "version": "3.12.0"
  },
  "toc": {
   "base_numbering": 1,
   "nav_menu": {},
   "number_sections": true,
   "sideBar": true,
   "skip_h1_title": true,
   "title_cell": "Table of Contents",
   "title_sidebar": "Contents",
   "toc_cell": false,
   "toc_position": {
    "height": "calc(100% - 180px)",
    "left": "10px",
    "top": "150px",
    "width": "304.59375px"
   },
   "toc_section_display": true,
   "toc_window_display": true
  },
  "varInspector": {
   "cols": {
    "lenName": 16,
    "lenType": 16,
    "lenVar": 40
   },
   "kernels_config": {
    "python": {
     "delete_cmd_postfix": "",
     "delete_cmd_prefix": "del ",
     "library": "var_list.py",
     "varRefreshCmd": "print(var_dic_list())"
    },
    "r": {
     "delete_cmd_postfix": ") ",
     "delete_cmd_prefix": "rm(",
     "library": "var_list.r",
     "varRefreshCmd": "cat(var_dic_list()) "
    }
   },
   "types_to_exclude": [
    "module",
    "function",
    "builtin_function_or_method",
    "instance",
    "_Feature"
   ],
   "window_display": false
  }
 },
 "nbformat": 4,
 "nbformat_minor": 2
}
