{
 "cells": [
  {
   "cell_type": "markdown",
   "id": "bb2b24c1",
   "metadata": {},
   "source": [
    "# Exercises - lecture 5"
   ]
  },
  {
   "cell_type": "markdown",
   "id": "9d69f0ef",
   "metadata": {},
   "source": [
    "## GIT"
   ]
  },
  {
   "cell_type": "markdown",
   "id": "d6ef8665",
   "metadata": {},
   "source": [
    "### Create an account on Github"
   ]
  },
  {
   "cell_type": "markdown",
   "id": "3a3586e8",
   "metadata": {},
   "source": [
    "### Create a project and add this notebook and your solutions file to it"
   ]
  },
  {
   "cell_type": "markdown",
   "id": "daad1625",
   "metadata": {},
   "source": [
    "### As you solve the exercises, use commits whenever you have solved part of an exercise (or even more often if you want to)"
   ]
  },
  {
   "cell_type": "markdown",
   "id": "fd9248d0",
   "metadata": {},
   "source": [
    "## String formatting and saving plots"
   ]
  },
  {
   "cell_type": "markdown",
   "id": "a253e296",
   "metadata": {},
   "source": [
    "### Take the 300 2D Gauss plots from the video creation lecture and the 300 file names that begin with the integer of the number of the plot in a format of 4 digits. For example: 0000 for the first width 0001 for the second one etc. Then add the intensity and the width to the filename:\n",
    "NUMBER_INTENSITY_WIDTH with the formatting:\n",
    "\n",
    "0000_1.0_01.00"
   ]
  },
  {
   "cell_type": "markdown",
   "id": "ae1bf615",
   "metadata": {},
   "source": [
    "### Loop over the width array, create the plots and save them with the new filenames "
   ]
  },
  {
   "cell_type": "markdown",
   "id": "8413ab1d",
   "metadata": {},
   "source": [
    "## Video creation\n",
    "Ideally, create a movie with your own data and your own images and prepare it for the tutorials.\n",
    "If you do not have datasets available do the following:\n",
    "\n",
    "### Use the example from the lecture and use different -preset settings and compare file sizes"
   ]
  },
  {
   "cell_type": "markdown",
   "id": "0c97d997",
   "metadata": {},
   "source": [
    "### Bonus: Try out different crf settings and compare video quality and file sizes"
   ]
  },
  {
   "cell_type": "markdown",
   "id": "6ff656a2",
   "metadata": {},
   "source": [
    "## Notebook structure"
   ]
  },
  {
   "cell_type": "markdown",
   "id": "5b786f0a",
   "metadata": {},
   "source": [
    "In this exercise I want you to apply 3 main things:\n",
    "\n",
    "1) Use the PEP8 standard throughout the exercises\n",
    "\n",
    "2) While you are programming make use of the Keyboard shortcuts covered in the lecture\n",
    "\n",
    "3) Structure the following code in a way that it becomes more readable, PEP8 conforming and so that the concerns are separated. In the end, consider what the end result of this code is and potentially delete lines of code that are not needed for the end result. All while maintaining the functionality of the code. This is an exercise to put you into the position of getting an undocumented code from somebody that is not well written and you need to understand it. "
   ]
  },
  {
   "cell_type": "code",
   "execution_count": null,
   "id": "533b5462",
   "metadata": {},
   "outputs": [],
   "source": [
    "import numpy as np\n",
    "import scipy as sp\n",
    "import matplotlib.pyplot as plt\n",
    "import scipy.ndimage\n",
    "\n",
    "figsizesmall = (8,6)\n",
    "figuresize = (10,6)\n",
    "figsizelarge = (15,10)\n",
    "plt.rcParams['pcolor.shading'] ='auto'\n",
    "\n",
    "xmax = 10\n",
    "x = np.arange(0,xmax)\n",
    "\n",
    "y = np.sin(x)\n",
    "\n",
    "plt.figure(figsize=figuresize)\n",
    "plt.plot(x,y, marker='o')\n",
    "\n",
    "interp_x = np.linspace(0,xmax-1,100)\n",
    "\n",
    "interp_y_np = np.interp(interp_x,x,y)\n",
    "\n",
    "plt.figure(figsize=figuresize)\n",
    "plt.plot(x, y, 'o')\n",
    "plt.plot(interp_x, interp_y_np, '.', color='red')\n",
    "plt.show()\n",
    "\n",
    "from scipy.interpolate import interp1d\n",
    "\n",
    "f_1d = interp1d(x,y)\n",
    "\n",
    "interp_y_1d = f_1d(interp_x)\n",
    "\n",
    "plt.figure(figsize=figuresize)\n",
    "plt.plot(x, y, 'o')\n",
    "plt.plot(interp_x, interp_y_1d, '.', color='green')\n",
    "plt.show()\n",
    "\n",
    "interp_x = np.linspace(0,xmax-1,100)\n",
    "plt.figure(figsize=figsizesmall)\n",
    "for k in ['linear', 'quadratic', 'cubic', 'nearest']: \n",
    "    f = interp1d(x,y,kind=k)\n",
    "    interp_y_1d = f(interp_x)\n",
    "    plt.plot(interp_x, interp_y_1d, label=k)\n",
    "plt.plot(x, y, 'o', color='blue')\n",
    "plt.legend()\n",
    "\n",
    "from scipy.interpolate import CubicSpline\n",
    "\n",
    "cs = CubicSpline(x, y)\n",
    "\n",
    "interp_y_cs = cs(interp_x)\n",
    "\n",
    "plt.figure(figsize=figuresize)\n",
    "plt.plot(x, y, 'o')\n",
    "plt.plot(interp_x, interp_y_cs, '.', label='cubic spline')\n",
    "plt.plot(interp_x, np.sin(interp_x), label='sin curve')\n",
    "plt.legend(fontsize=14)\n",
    "plt.show()"
   ]
  }
 ],
 "metadata": {
  "kernelspec": {
   "display_name": "Python 3 (ipykernel)",
   "language": "python",
   "name": "python3"
  },
  "language_info": {
   "codemirror_mode": {
    "name": "ipython",
    "version": 3
   },
   "file_extension": ".py",
   "mimetype": "text/x-python",
   "name": "python",
   "nbconvert_exporter": "python",
   "pygments_lexer": "ipython3",
   "version": "3.12.0"
  },
  "toc": {
   "base_numbering": 1,
   "nav_menu": {},
   "number_sections": true,
   "sideBar": true,
   "skip_h1_title": true,
   "title_cell": "Table of Contents",
   "title_sidebar": "Contents",
   "toc_cell": false,
   "toc_position": {
    "height": "calc(100% - 180px)",
    "left": "10px",
    "top": "150px",
    "width": "264.796875px"
   },
   "toc_section_display": true,
   "toc_window_display": false
  }
 },
 "nbformat": 4,
 "nbformat_minor": 5
}
