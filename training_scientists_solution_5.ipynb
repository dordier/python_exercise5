{
 "cells": [
  {
   "cell_type": "markdown",
   "id": "ae20e9b6",
   "metadata": {},
   "source": [
    "# Solutions - lecture 5"
   ]
  },
  {
   "cell_type": "markdown",
   "id": "9db061fd",
   "metadata": {},
   "source": [
    "### Take the 300 2D Gauss plots from the video creation lecture and the 300 file names that begin with the integer of the number of the plot in a format of 4 digits. For example: 0000 for the first width 0001 for the second one etc. Then add the intensity and the width to the filename:\n",
    "NUMBER_INTENSITY_WIDTH with the formatting:\n",
    "\n",
    "0000_1.0_01.00"
   ]
  },
  {
   "cell_type": "code",
   "execution_count": null,
   "id": "1c9fa506",
   "metadata": {},
   "outputs": [],
   "source": [
    "from pylab import meshgrid,cm,imshow,contour,clabel,colorbar,axis,title,show"
   ]
  },
  {
   "cell_type": "code",
   "execution_count": null,
   "id": "fc682a7a",
   "metadata": {},
   "outputs": [],
   "source": [
    "def gauss_2d(x, y, I, width):\n",
    "    return I*np.exp(-x**2/width**2 + -y**2/width**2)"
   ]
  },
  {
   "cell_type": "code",
   "execution_count": null,
   "id": "75d09803",
   "metadata": {},
   "outputs": [],
   "source": [
    "accuracy = 0.04\n",
    "x = np.arange(-5, 5, accuracy)\n",
    "y = np.arange(-5, 5, accuracy)\n",
    "\n",
    "X,Y = np.meshgrid(x,y)"
   ]
  },
  {
   "cell_type": "code",
   "execution_count": null,
   "id": "9381dd68",
   "metadata": {},
   "outputs": [],
   "source": [
    "nplots = 300\n",
    "intensity = 1.0\n",
    "widths = np.linspace(1.0, 10.0, nplots)"
   ]
  },
  {
   "cell_type": "code",
   "execution_count": null,
   "id": "1b5165a9",
   "metadata": {},
   "outputs": [],
   "source": [
    "i=299\n",
    "# for the width 05.2f because you want a leading zero for values under 10,\n",
    "# 5 is the total width of the string (including the decimal point) and 2 digits after the decimal point\n",
    "fname = f\"{i:04d}_{intensity:.1f}_{widths[i]:05.2f}\"\n",
    "fname"
   ]
  },
  {
   "cell_type": "markdown",
   "id": "c5d4f10c",
   "metadata": {},
   "source": [
    "### Loop over the width array, create the plots and save them with the new filenames "
   ]
  },
  {
   "cell_type": "code",
   "execution_count": null,
   "id": "4a4fa654",
   "metadata": {},
   "outputs": [],
   "source": [
    "position = 1.07\n",
    "lwidth = 1.5\n",
    "lpad = -10"
   ]
  },
  {
   "cell_type": "code",
   "execution_count": null,
   "id": "b9a3632a",
   "metadata": {},
   "outputs": [],
   "source": [
    "# Create folder for output\n",
    "directory = './ex_pics/'\n",
    "if not os.path.exists(directory):\n",
    "    os.makedirs(directory)"
   ]
  },
  {
   "cell_type": "code",
   "execution_count": null,
   "id": "8e2fa08b",
   "metadata": {},
   "outputs": [],
   "source": [
    "for i, width in enumerate(widths):\n",
    "    fname = f\"{i:04d}_{intensity:.1f}_{width:05.2f}\"\n",
    "    data = gauss_2d(X,Y, intensity, width)\n",
    "    \n",
    "    plt.figure(figsize=figuresize)\n",
    "        \n",
    "    im = plt.pcolor(X,Y,data, cmap=cm.inferno, vmin=0, vmax=1, shading='auto')\n",
    "    cbar = colorbar(im)\n",
    "    cbar.set_label(r'$gauss\\_2d$', rotation=0, labelpad=lpad, y=position)\n",
    "    \n",
    "    plt.xlabel(r\"$x$\")\n",
    "    plt.ylabel(r\"$y$\")\n",
    "    plt.text(-4.7, 4.0, f'width = {width:05.2f}', fontsize=16, color='white')\n",
    "    plt.savefig(directory + fname + '.png', bbox_inches='tight', dpi=200)\n",
    "    plt.close()"
   ]
  },
  {
   "cell_type": "markdown",
   "id": "ab79cffa",
   "metadata": {},
   "source": [
    "## Video creation\n",
    "Ideally, create a movie with your own data and your own images and prepare it for the tutorials.\n",
    "If you do not have datasets available do the following:\n",
    "\n",
    "### Use the example from the lecture and use different -preset settings and compare file sizes"
   ]
  },
  {
   "cell_type": "code",
   "execution_count": null,
   "id": "fb22dcf1",
   "metadata": {},
   "outputs": [],
   "source": [
    "os.chdir('./ex_pics/')\n",
    "subprocess.call('ffmpeg  -i %04d.png  -vcodec libx264 -r 30 -preset ultrafast -crf 18 -y -s 1920x1080 gaussians_ultrafast.mp4', shell=True)\n",
    "os.chdir('..')"
   ]
  },
  {
   "cell_type": "code",
   "execution_count": null,
   "id": "c69f3a97",
   "metadata": {},
   "outputs": [],
   "source": [
    "os.chdir('./ex_pics/')\n",
    "subprocess.call('ffmpeg  -i %04d.png  -vcodec libx264 -r 30 -preset veryslow -crf 18 -y -s 1920x1080 gaussians_veryslow.mp4', shell=True)\n",
    "os.chdir('..')"
   ]
  },
  {
   "cell_type": "markdown",
   "id": "64138a95",
   "metadata": {},
   "source": [
    "### Bonus: Try out different crf settings and compare video quality and file sizes"
   ]
  },
  {
   "cell_type": "code",
   "execution_count": null,
   "id": "c240a1c6",
   "metadata": {},
   "outputs": [],
   "source": [
    "os.chdir('./ex_pics/')\n",
    "subprocess.call('ffmpeg  -i %04d.png  -vcodec libx264 -r 30 -preset veryslow -crf 28 -y -s 1920x1080 gaussians_veryslow_28.mp4', shell=True)\n",
    "os.chdir('..')"
   ]
  },
  {
   "cell_type": "markdown",
   "id": "25aaa66e",
   "metadata": {},
   "source": [
    "libx264 does not work on all machines, you can try other codecs:\n",
    "\n",
    "mpeg4 \n",
    "libxvid\n",
    "h264_qsv\n",
    "\n",
    "https://www.ffmpeg.org/ffmpeg-codecs.html\n",
    "\n",
    "https://trac.ffmpeg.org/wiki/Encode/MPEG-4\n",
    "\n",
    "https://trac.ffmpeg.org/wiki/Hardware/QuickSync "
   ]
  },
  {
   "cell_type": "code",
   "execution_count": null,
   "id": "08175d8c",
   "metadata": {},
   "outputs": [],
   "source": []
  }
 ],
 "metadata": {
  "kernelspec": {
   "display_name": "Python 3 (ipykernel)",
   "language": "python",
   "name": "python3"
  },
  "language_info": {
   "codemirror_mode": {
    "name": "ipython",
    "version": 3
   },
   "file_extension": ".py",
   "mimetype": "text/x-python",
   "name": "python",
   "nbconvert_exporter": "python",
   "pygments_lexer": "ipython3",
   "version": "3.11.5"
  },
  "toc": {
   "base_numbering": 1,
   "nav_menu": {},
   "number_sections": true,
   "sideBar": true,
   "skip_h1_title": true,
   "title_cell": "Table of Contents",
   "title_sidebar": "Contents",
   "toc_cell": false,
   "toc_position": {
    "height": "calc(100% - 180px)",
    "left": "10px",
    "top": "150px",
    "width": "384px"
   },
   "toc_section_display": true,
   "toc_window_display": true
  }
 },
 "nbformat": 4,
 "nbformat_minor": 5
}
